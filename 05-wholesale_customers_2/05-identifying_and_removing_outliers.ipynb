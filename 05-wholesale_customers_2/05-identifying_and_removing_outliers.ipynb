{
 "cells": [
  {
   "cell_type": "markdown",
   "metadata": {},
   "source": [
    "# Identifying and Removing Outliers"
   ]
  },
  {
   "cell_type": "markdown",
   "metadata": {},
   "source": [
    "To identify outliers in the data, we will use what is [the Tukey Method](http://datapigtechnologies.com/blog/index.php/highlighting-outliers-in-your-data-with-the-tukey-method/). \n",
    "\n",
    "This means that we will look for points that are more than 1.5 times the Inter-quartile range above the third quartile or below the first quartile."
   ]
  },
  {
   "cell_type": "code",
   "execution_count": 1,
   "metadata": {},
   "outputs": [],
   "source": [
    "import pandas as pd\n",
    "import numpy as np"
   ]
  },
  {
   "cell_type": "code",
   "execution_count": 2,
   "metadata": {},
   "outputs": [],
   "source": [
    "customer_log_sc_df = pd.read_pickle('final_log_sc.p')"
   ]
  },
  {
   "cell_type": "code",
   "execution_count": 3,
   "metadata": {},
   "outputs": [],
   "source": [
    "def display_outliers(dataframe, col, param=1.5):\n",
    "    Q1 = np.percentile(dataframe[col], 25)\n",
    "    Q3 = np.percentile(dataframe[col], 75)\n",
    "    tukey_window = param*(Q3-Q1)\n",
    "    less_than_Q1 = dataframe[col] < Q1 - tukey_window\n",
    "    greater_than_Q3 = dataframe[col] > Q3 + tukey_window\n",
    "    tukey_mask = (less_than_Q1 | greater_than_Q3)\n",
    "    return dataframe[tukey_mask]"
   ]
  },
  {
   "cell_type": "code",
   "execution_count": 10,
   "metadata": {},
   "outputs": [
    {
     "data": {
      "text/html": [
       "<div>\n",
       "<table border=\"1\" class=\"dataframe\">\n",
       "  <thead>\n",
       "    <tr style=\"text-align: right;\">\n",
       "      <th></th>\n",
       "      <th>Fresh</th>\n",
       "      <th>Milk</th>\n",
       "      <th>Grocery</th>\n",
       "      <th>Frozen</th>\n",
       "      <th>Detergents_Paper</th>\n",
       "      <th>Delicatessen</th>\n",
       "    </tr>\n",
       "  </thead>\n",
       "  <tbody>\n",
       "    <tr>\n",
       "      <th>86</th>\n",
       "      <td>0.885721</td>\n",
       "      <td>2.855165</td>\n",
       "      <td>1.736366</td>\n",
       "      <td>-0.316992</td>\n",
       "      <td>1.815529</td>\n",
       "      <td>0.107374</td>\n",
       "    </tr>\n",
       "    <tr>\n",
       "      <th>98</th>\n",
       "      <td>-1.697763</td>\n",
       "      <td>-3.150111</td>\n",
       "      <td>-1.600536</td>\n",
       "      <td>-0.393251</td>\n",
       "      <td>-1.605886</td>\n",
       "      <td>-1.361243</td>\n",
       "    </tr>\n",
       "    <tr>\n",
       "      <th>154</th>\n",
       "      <td>-1.554127</td>\n",
       "      <td>-3.808515</td>\n",
       "      <td>-3.158292</td>\n",
       "      <td>-2.325583</td>\n",
       "      <td>-2.815523</td>\n",
       "      <td>-3.502289</td>\n",
       "    </tr>\n",
       "    <tr>\n",
       "      <th>356</th>\n",
       "      <td>0.878632</td>\n",
       "      <td>-2.984076</td>\n",
       "      <td>-2.741651</td>\n",
       "      <td>0.589193</td>\n",
       "      <td>-2.669330</td>\n",
       "      <td>-0.274075</td>\n",
       "    </tr>\n",
       "  </tbody>\n",
       "</table>\n",
       "</div>"
      ],
      "text/plain": [
       "        Fresh      Milk   Grocery    Frozen  Detergents_Paper  Delicatessen\n",
       "86   0.885721  2.855165  1.736366 -0.316992          1.815529      0.107374\n",
       "98  -1.697763 -3.150111 -1.600536 -0.393251         -1.605886     -1.361243\n",
       "154 -1.554127 -3.808515 -3.158292 -2.325583         -2.815523     -3.502289\n",
       "356  0.878632 -2.984076 -2.741651  0.589193         -2.669330     -0.274075"
      ]
     },
     "execution_count": 10,
     "metadata": {},
     "output_type": "execute_result"
    }
   ],
   "source": [
    "display_outliers(customer_log_sc_df, 'Milk')"
   ]
  },
  {
   "cell_type": "code",
   "execution_count": 11,
   "metadata": {},
   "outputs": [
    {
     "data": {
      "text/html": [
       "<div>\n",
       "<table border=\"1\" class=\"dataframe\">\n",
       "  <thead>\n",
       "    <tr style=\"text-align: right;\">\n",
       "      <th></th>\n",
       "      <th>Fresh</th>\n",
       "      <th>Milk</th>\n",
       "      <th>Grocery</th>\n",
       "      <th>Frozen</th>\n",
       "      <th>Detergents_Paper</th>\n",
       "      <th>Delicatessen</th>\n",
       "    </tr>\n",
       "  </thead>\n",
       "  <tbody>\n",
       "    <tr>\n",
       "      <th>75</th>\n",
       "      <td>0.806722</td>\n",
       "      <td>-1.004409</td>\n",
       "      <td>-6.585828</td>\n",
       "      <td>0.849171</td>\n",
       "      <td>-3.308406</td>\n",
       "      <td>0.165965</td>\n",
       "    </tr>\n",
       "    <tr>\n",
       "      <th>154</th>\n",
       "      <td>-1.554127</td>\n",
       "      <td>-3.808515</td>\n",
       "      <td>-3.158292</td>\n",
       "      <td>-2.325583</td>\n",
       "      <td>-2.815523</td>\n",
       "      <td>-3.502289</td>\n",
       "    </tr>\n",
       "  </tbody>\n",
       "</table>\n",
       "</div>"
      ],
      "text/plain": [
       "        Fresh      Milk   Grocery    Frozen  Detergents_Paper  Delicatessen\n",
       "75   0.806722 -1.004409 -6.585828  0.849171         -3.308406      0.165965\n",
       "154 -1.554127 -3.808515 -3.158292 -2.325583         -2.815523     -3.502289"
      ]
     },
     "execution_count": 11,
     "metadata": {},
     "output_type": "execute_result"
    }
   ],
   "source": [
    "display_outliers(customer_log_sc_df, 'Grocery')"
   ]
  },
  {
   "cell_type": "code",
   "execution_count": 12,
   "metadata": {},
   "outputs": [
    {
     "data": {
      "text/plain": [
       "[65,\n",
       " 66,\n",
       " 81,\n",
       " 95,\n",
       " 96,\n",
       " 128,\n",
       " 171,\n",
       " 193,\n",
       " 218,\n",
       " 304,\n",
       " 305,\n",
       " 338,\n",
       " 353,\n",
       " 355,\n",
       " 357,\n",
       " 412,\n",
       " 86,\n",
       " 98,\n",
       " 154,\n",
       " 356,\n",
       " 75,\n",
       " 154,\n",
       " 38,\n",
       " 57,\n",
       " 65,\n",
       " 145,\n",
       " 175,\n",
       " 264,\n",
       " 325,\n",
       " 420,\n",
       " 429,\n",
       " 439,\n",
       " 75,\n",
       " 161,\n",
       " 66,\n",
       " 109,\n",
       " 128,\n",
       " 137,\n",
       " 142,\n",
       " 154,\n",
       " 183,\n",
       " 184,\n",
       " 187,\n",
       " 203,\n",
       " 233,\n",
       " 285,\n",
       " 289,\n",
       " 343]"
      ]
     },
     "execution_count": 12,
     "metadata": {},
     "output_type": "execute_result"
    }
   ],
   "source": [
    "raw_outliers"
   ]
  },
  {
   "cell_type": "raw",
   "metadata": {},
   "source": []
  },
  {
   "cell_type": "code",
   "execution_count": 4,
   "metadata": {},
   "outputs": [
    {
     "name": "stdout",
     "output_type": "stream",
     "text": [
      "Fresh (16, 6)\n",
      "Milk (4, 6)\n",
      "Grocery (2, 6)\n",
      "Frozen (10, 6)\n",
      "Detergents_Paper (2, 6)\n",
      "Delicatessen (14, 6)\n"
     ]
    }
   ],
   "source": [
    "for col in customer_log_sc_df:\n",
    "    print(col, display_outliers(customer_log_sc_df, col).shape)"
   ]
  },
  {
   "cell_type": "markdown",
   "metadata": {},
   "source": [
    "What if we count the rows that show up as an outlier more than once?"
   ]
  },
  {
   "cell_type": "code",
   "execution_count": 5,
   "metadata": {},
   "outputs": [],
   "source": [
    "from collections import Counter"
   ]
  },
  {
   "cell_type": "code",
   "execution_count": 6,
   "metadata": {},
   "outputs": [],
   "source": [
    "raw_outliers = []\n",
    "for col in customer_log_sc_df:\n",
    "    outlier_df = display_outliers(customer_log_sc_df, col)\n",
    "    raw_outliers += list(outlier_df.index)"
   ]
  },
  {
   "cell_type": "code",
   "execution_count": 7,
   "metadata": {},
   "outputs": [],
   "source": [
    "outlier_count = Counter(raw_outliers)\n",
    "outliers = [k for k,v in outlier_count.items() if v > 1]"
   ]
  },
  {
   "cell_type": "code",
   "execution_count": 13,
   "metadata": {},
   "outputs": [
    {
     "data": {
      "text/plain": [
       "Counter({38: 1,\n",
       "         57: 1,\n",
       "         65: 2,\n",
       "         66: 2,\n",
       "         75: 2,\n",
       "         81: 1,\n",
       "         86: 1,\n",
       "         95: 1,\n",
       "         96: 1,\n",
       "         98: 1,\n",
       "         109: 1,\n",
       "         128: 2,\n",
       "         137: 1,\n",
       "         142: 1,\n",
       "         145: 1,\n",
       "         154: 3,\n",
       "         161: 1,\n",
       "         171: 1,\n",
       "         175: 1,\n",
       "         183: 1,\n",
       "         184: 1,\n",
       "         187: 1,\n",
       "         193: 1,\n",
       "         203: 1,\n",
       "         218: 1,\n",
       "         233: 1,\n",
       "         264: 1,\n",
       "         285: 1,\n",
       "         289: 1,\n",
       "         304: 1,\n",
       "         305: 1,\n",
       "         325: 1,\n",
       "         338: 1,\n",
       "         343: 1,\n",
       "         353: 1,\n",
       "         355: 1,\n",
       "         356: 1,\n",
       "         357: 1,\n",
       "         412: 1,\n",
       "         420: 1,\n",
       "         429: 1,\n",
       "         439: 1})"
      ]
     },
     "execution_count": 13,
     "metadata": {},
     "output_type": "execute_result"
    }
   ],
   "source": [
    "outlier_count"
   ]
  },
  {
   "cell_type": "code",
   "execution_count": 14,
   "metadata": {},
   "outputs": [
    {
     "data": {
      "text/plain": [
       "[65, 66, 128, 154, 75]"
      ]
     },
     "execution_count": 14,
     "metadata": {},
     "output_type": "execute_result"
    }
   ],
   "source": [
    "outliers"
   ]
  },
  {
   "cell_type": "code",
   "execution_count": 8,
   "metadata": {},
   "outputs": [
    {
     "data": {
      "text/plain": [
       "5"
      ]
     },
     "execution_count": 8,
     "metadata": {},
     "output_type": "execute_result"
    }
   ],
   "source": [
    "len(outliers)"
   ]
  },
  {
   "cell_type": "code",
   "execution_count": 9,
   "metadata": {},
   "outputs": [
    {
     "data": {
      "text/plain": [
       "(440, 6)"
      ]
     },
     "execution_count": 9,
     "metadata": {},
     "output_type": "execute_result"
    }
   ],
   "source": [
    "customer_log_sc_df.shape"
   ]
  },
  {
   "cell_type": "code",
   "execution_count": null,
   "metadata": {},
   "outputs": [],
   "source": []
  }
 ],
 "metadata": {
  "kernelspec": {
   "display_name": "Python 3",
   "language": "python",
   "name": "python3"
  },
  "language_info": {
   "codemirror_mode": {
    "name": "ipython",
    "version": 3
   },
   "file_extension": ".py",
   "mimetype": "text/x-python",
   "name": "python",
   "nbconvert_exporter": "python",
   "pygments_lexer": "ipython3",
   "version": "3.6.3"
  }
 },
 "nbformat": 4,
 "nbformat_minor": 2
}
